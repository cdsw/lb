{
 "cells": [
  {
   "cell_type": "code",
   "execution_count": null,
   "metadata": {},
   "outputs": [],
   "source": [
    "from N1_ML import *"
   ]
  },
  {
   "cell_type": "code",
   "execution_count": null,
   "metadata": {},
   "outputs": [],
   "source": [
    "# ML Part\n",
    "test_ratio = 0.25\n",
    "epochs = 2\n",
    "count = 7\n",
    "\n",
    "train_inp, test_inp, train_oup, test_oup = split(fetch(), test_ratio)\n",
    "train_inps = buildPortions(count, train_inp)\n",
    "train_oups = buildPortions(count, train_oup)\n",
    "test_inps = buildPortions(count, test_inp)\n",
    "test_oups = buildPortions(count, test_oup)"
   ]
  },
  {
   "cell_type": "code",
   "execution_count": null,
   "metadata": {},
   "outputs": [],
   "source": [
    "#mod_clean = honestTrainGlobal(epochs, train_inp, train_oup)"
   ]
  },
  {
   "cell_type": "code",
   "execution_count": null,
   "metadata": {},
   "outputs": [],
   "source": [
    "#testMulti(test_inps, test_oups, mod_clean)"
   ]
  },
  {
   "cell_type": "code",
   "execution_count": null,
   "metadata": {},
   "outputs": [],
   "source": [
    "def_ratios = [0.048, 0.108, 0.254, 0.408, 0.518, 0.635]\n",
    "epochs = [2,4,8,16]\n",
    "r = True\n",
    "if r == True:\n",
    "    for def_ratio in def_ratios:\n",
    "        for e in epochs:\n",
    "            train_oups_poisoned = poison(train_oups, def_ratio)\n",
    "            test_oups_poisoned = poison(test_oups, def_ratio)\n",
    "            mod_poisoned = dishonestTrain(e, train_inps, train_oups_poisoned)\n",
    "            testMulti(test_inps, test_oups_poisoned, mod_poisoned)"
   ]
  },
  {
   "cell_type": "code",
   "execution_count": null,
   "metadata": {},
   "outputs": [],
   "source": []
  }
 ],
 "metadata": {
  "interpreter": {
   "hash": "bb9c770599c29accaf2a9240ce1368d4cdf7f8298a578ed060299133d1d1d8bb"
  },
  "kernelspec": {
   "display_name": "Python 3.7.9 64-bit",
   "language": "python",
   "name": "python3"
  },
  "language_info": {
   "codemirror_mode": {
    "name": "ipython",
    "version": 3
   },
   "file_extension": ".py",
   "mimetype": "text/x-python",
   "name": "python",
   "nbconvert_exporter": "python",
   "pygments_lexer": "ipython3",
   "version": "3.7.9"
  },
  "orig_nbformat": 4
 },
 "nbformat": 4,
 "nbformat_minor": 2
}
