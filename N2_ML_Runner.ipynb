{
 "cells": [
  {
   "cell_type": "code",
   "execution_count": 2,
   "metadata": {},
   "outputs": [],
   "source": [
    "from N1_ML import *"
   ]
  },
  {
   "cell_type": "code",
   "execution_count": 3,
   "metadata": {},
   "outputs": [
    {
     "name": "stdout",
     "output_type": "stream",
     "text": [
      "[26456, 13228, 6614, 3307, 1653, 826, 413]\n",
      "[26456, 13228, 6614, 3307, 1653, 826, 413]\n",
      "[8818, 4409, 2204, 1102, 551, 275, 137]\n",
      "[8818, 4409, 2204, 1102, 551, 275, 137]\n"
     ]
    }
   ],
   "source": [
    "# ML Part\n",
    "test_ratio = 0.25\n",
    "epochs = 2\n",
    "count = 7\n",
    "\n",
    "train_inp, test_inp, train_oup, test_oup = split(fetch(), test_ratio)\n",
    "train_inps = buildPortions(count, train_inp)\n",
    "train_oups = buildPortions(count, train_oup)\n",
    "test_inps = buildPortions(count, test_inp)\n",
    "test_oups = buildPortions(count, test_oup)"
   ]
  },
  {
   "cell_type": "code",
   "execution_count": 4,
   "metadata": {},
   "outputs": [],
   "source": [
    "#mod_clean = honestTrainGlobal(epochs, train_inp, train_oup)"
   ]
  },
  {
   "cell_type": "code",
   "execution_count": 5,
   "metadata": {},
   "outputs": [],
   "source": [
    "#testMulti(test_inps, test_oups, mod_clean)"
   ]
  },
  {
   "cell_type": "code",
   "execution_count": 6,
   "metadata": {},
   "outputs": [
    {
     "name": "stdout",
     "output_type": "stream",
     "text": [
      "Altered: 33070 of 52497\n",
      "Altered: 11022 of 17496\n",
      "Epoch 1/2\n",
      "1641/1641 - 10s - loss: 0.4358 - accuracy: 0.1387\n",
      "Epoch 2/2\n",
      "1641/1641 - 9s - loss: 0.4356 - accuracy: 0.1503\n",
      "0 8818 8818\n",
      "276/276 [==============================] - 1s 3ms/step - loss: 0.0951 - accuracy: 0.3359\n",
      "3 1102 1102\n",
      "35/35 [==============================] - 0s 4ms/step - loss: 0.0949 - accuracy: 0.3503\n",
      "6 137 137\n",
      "5/5 [==============================] - 0s 3ms/step - loss: 0.0956 - accuracy: 0.2701\n",
      "Altered: 2479 of 52497\n",
      "Altered: 826 of 17496\n",
      "Epoch 1/2\n",
      "1641/1641 - 10s - loss: 0.0801 - accuracy: 0.6528\n",
      "Epoch 2/2\n",
      "1641/1641 - 9s - loss: 0.0655 - accuracy: 0.7562\n",
      "0 8818 8818\n",
      "276/276 [==============================] - 1s 3ms/step - loss: 0.0307 - accuracy: 0.7998\n",
      "3 1102 1102\n",
      "35/35 [==============================] - 0s 3ms/step - loss: 0.0297 - accuracy: 0.8203\n",
      "6 137 137\n",
      "5/5 [==============================] - 0s 3ms/step - loss: 0.0321 - accuracy: 0.7883\n",
      "Altered: 5373 of 52497\n",
      "Altered: 1790 of 17496\n",
      "Epoch 1/2\n",
      "1641/1641 - 10s - loss: 0.1168 - accuracy: 0.6019\n",
      "Epoch 2/2\n",
      "1641/1641 - 9s - loss: 0.1071 - accuracy: 0.6847\n",
      "0 8818 8818\n",
      "276/276 [==============================] - 1s 3ms/step - loss: 0.0364 - accuracy: 0.7656\n",
      "3 1102 1102\n",
      "35/35 [==============================] - 0s 2ms/step - loss: 0.0354 - accuracy: 0.7768\n",
      "6 137 137\n",
      "5/5 [==============================] - 0s 2ms/step - loss: 0.0361 - accuracy: 0.7810\n"
     ]
    }
   ],
   "source": [
    "def_ratios = [0.635, 0.048, 0.108, 0.254, 0.408, 0.518]\n",
    "#epochs = [2,4,8,16]\n",
    "epochs = [2]\n",
    "r = True\n",
    "if r == True:\n",
    "    for def_ratio in def_ratios:\n",
    "        for e in epochs:\n",
    "            train_oups_poisoned = poison(train_oups, def_ratio)\n",
    "            test_oups_poisoned = poison(test_oups, def_ratio)\n",
    "            mod_poisoned = dishonestTrain(e, train_inps, train_oups_poisoned)\n",
    "            #testMulti(test_inps, test_oups_poisoned, mod_poisoned)\n",
    "            testMulti(test_inps, test_oups, mod_poisoned)"
   ]
  },
  {
   "cell_type": "code",
   "execution_count": null,
   "metadata": {},
   "outputs": [],
   "source": []
  }
 ],
 "metadata": {
  "interpreter": {
   "hash": "bb9c770599c29accaf2a9240ce1368d4cdf7f8298a578ed060299133d1d1d8bb"
  },
  "kernelspec": {
   "display_name": "Python 3.7.9 64-bit",
   "language": "python",
   "name": "python3"
  },
  "language_info": {
   "codemirror_mode": {
    "name": "ipython",
    "version": 3
   },
   "file_extension": ".py",
   "mimetype": "text/x-python",
   "name": "python",
   "nbconvert_exporter": "python",
   "pygments_lexer": "ipython3",
   "version": "3.7.9"
  },
  "orig_nbformat": 4
 },
 "nbformat": 4,
 "nbformat_minor": 2
}
