{
 "cells": [
  {
   "cell_type": "code",
   "execution_count": 4,
   "metadata": {},
   "outputs": [],
   "source": [
    "from N1_ML import *"
   ]
  },
  {
   "cell_type": "code",
   "execution_count": 5,
   "metadata": {},
   "outputs": [
    {
     "name": "stdout",
     "output_type": "stream",
     "text": [
      "[26456, 13228, 6614, 3307, 1653, 826, 413]\n",
      "[26456, 13228, 6614, 3307, 1653, 826, 413]\n",
      "[8818, 4409, 2204, 1102, 551, 275, 137]\n",
      "[8818, 4409, 2204, 1102, 551, 275, 137]\n"
     ]
    }
   ],
   "source": [
    "# ML Part\n",
    "test_ratio = 0.25\n",
    "epochs = 2\n",
    "count = 7\n",
    "\n",
    "train_inp, test_inp, train_oup, test_oup = split(fetch(), test_ratio)\n",
    "train_inps = buildPortions(count, train_inp)\n",
    "train_oups = buildPortions(count, train_oup)\n",
    "test_inps = buildPortions(count, test_inp)\n",
    "test_oups = buildPortions(count, test_oup)"
   ]
  },
  {
   "cell_type": "code",
   "execution_count": 7,
   "metadata": {},
   "outputs": [],
   "source": [
    "mod_clean = honestTrainGlobal(epochs, train_inp, train_oup)"
   ]
  },
  {
   "cell_type": "code",
   "execution_count": 8,
   "metadata": {},
   "outputs": [],
   "source": [
    "testMulti(test_inps, test_oups, mod_clean)"
   ]
  },
  {
   "cell_type": "code",
   "execution_count": null,
   "metadata": {},
   "outputs": [],
   "source": [
    "def_ratios = [0.05]\n",
    "epochs = [2,4,8,16]\n",
    "r = True\n",
    "if r == True:\n",
    "    for def_ratio in def_ratios:\n",
    "        for e in epochs:\n",
    "            train_oups_poisoned = poison(train_oups, def_ratio)\n",
    "            mod_poisoned = dishonestTrain(e, train_inps, train_oups_poisoned)\n",
    "            testMulti(test_inps, test_oups, mod_poisoned)"
   ]
  },
  {
   "cell_type": "code",
   "execution_count": 10,
   "metadata": {},
   "outputs": [
    {
     "ename": "NameError",
     "evalue": "name 'mod_poisoned' is not defined",
     "output_type": "error",
     "traceback": [
      "\u001b[1;31m---------------------------------------------------------------------------\u001b[0m",
      "\u001b[1;31mNameError\u001b[0m                                 Traceback (most recent call last)",
      "\u001b[1;32m<ipython-input-10-a21356997e61>\u001b[0m in \u001b[0;36m<module>\u001b[1;34m\u001b[0m\n\u001b[1;32m----> 1\u001b[1;33m \u001b[0mmod_poisoned\u001b[0m\u001b[1;33m.\u001b[0m\u001b[0mmodel\u001b[0m\u001b[1;33m.\u001b[0m\u001b[0msave\u001b[0m\u001b[1;33m(\u001b[0m\u001b[1;34m'./models/mc'\u001b[0m\u001b[1;33m,\u001b[0m \u001b[0msave_format\u001b[0m\u001b[1;33m=\u001b[0m\u001b[1;34m'h5'\u001b[0m\u001b[1;33m)\u001b[0m\u001b[1;33m\u001b[0m\u001b[1;33m\u001b[0m\u001b[0m\n\u001b[0m",
      "\u001b[1;31mNameError\u001b[0m: name 'mod_poisoned' is not defined"
     ]
    }
   ],
   "source": [
    "#mod_poisoned.model.save('./models/mc', save_format='h5')"
   ]
  },
  {
   "cell_type": "code",
   "execution_count": null,
   "metadata": {},
   "outputs": [],
   "source": []
  }
 ],
 "metadata": {
  "interpreter": {
   "hash": "bb9c770599c29accaf2a9240ce1368d4cdf7f8298a578ed060299133d1d1d8bb"
  },
  "kernelspec": {
   "display_name": "Python 3.7.9 64-bit",
   "language": "python",
   "name": "python3"
  },
  "language_info": {
   "codemirror_mode": {
    "name": "ipython",
    "version": 3
   },
   "file_extension": ".py",
   "mimetype": "text/x-python",
   "name": "python",
   "nbconvert_exporter": "python",
   "pygments_lexer": "ipython3",
   "version": "3.7.9"
  },
  "orig_nbformat": 4
 },
 "nbformat": 4,
 "nbformat_minor": 2
}
