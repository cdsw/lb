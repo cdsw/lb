{
 "cells": [
  {
   "cell_type": "code",
   "execution_count": null,
   "metadata": {},
   "outputs": [],
   "source": [
    "from N1_dataprep_mnist import *"
   ]
  },
  {
   "cell_type": "code",
   "execution_count": null,
   "metadata": {},
   "outputs": [],
   "source": [
    "# ML Part\n",
    "test_ratio = 0.25\n",
    "epochs = 2\n",
    "count = 7\n",
    "\n",
    "train_inp, test_inp, train_oup, test_oup = split(fetch(), test_ratio)\n",
    "train_inps = buildPortions(count, train_inp)\n",
    "train_oups = buildPortions(count, train_oup)\n",
    "test_inps = buildPortions(count, test_inp)\n",
    "test_oups = buildPortions(count, test_oup)"
   ]
  },
  {
   "cell_type": "code",
   "execution_count": null,
   "metadata": {},
   "outputs": [],
   "source": [
    "def honestTrainGlobal(epochs, train_inp_, train_oup_):\n",
    "    sess = getSession()\n",
    "    md = CNN()\n",
    "    md.setup()\n",
    "    md.setData(train_inp_,train_oup_)\n",
    "    md.train('FMN', 'Global-' + sess, epochs_=epochs, verbose_=2)\n",
    "    return md\n",
    "\n",
    "def honestGlobal(test_inp_, test_oup_, model_):\n",
    "    model_.model.evaluate(test_inp_, test_oup_)\n",
    "\n",
    "def clientsEval(test_inps_, test_oups_):\n",
    "    testMulti(test_inps_, test_oups_)\n",
    "\n",
    "def randomize(train_oup__):\n",
    "    train_oup_ = deepcopy(train_oup__)\n",
    "    for i in range(len(train_oup_)):\n",
    "        for j in range(len(train_oup_[i])):\n",
    "            deviation = randint(0,300)/100\n",
    "            train_oup_[i][j] = train_oup[i][j] * deviation\n",
    "    print(train_oup__ - train_oup_)\n",
    "    return train_oup_    \n",
    "\n",
    "def shuffle(lst):\n",
    "    lst_ = []\n",
    "    for i in range(len(lst)):\n",
    "        candidate = randint(-1,1)\n",
    "        if lst[i] == 1 and lst[i] == candidate:\n",
    "            candidate = 0\n",
    "        lst_.append(candidate)\n",
    "    return lst_\n",
    "\n",
    "def poison(seth, defect_ratio):\n",
    "    seth_ = deepcopy(seth)\n",
    "    sumh = 0\n",
    "    altered = 0\n",
    "    for e in seth_:\n",
    "        sumh += len(e)\n",
    "    for i in range(len(seth_)):\n",
    "        ratio = len(seth_[i])/sumh\n",
    "        if ratio > defect_ratio:\n",
    "            continue\n",
    "        else:\n",
    "            #train_oups_[i] = randomize(train_oups_[i])\n",
    "            for j in range(len(seth_[i])):\n",
    "                seth_[i][j] = shuffle(seth_[i][j])\n",
    "                altered += 1\n",
    "            defect_ratio -= ratio\n",
    "    print(\"Altered: \" + str(altered) + \" of \" + str(sumh))\n",
    "    return seth_\n",
    "\n",
    "def dishonestTrain(epochs, train_inps_, train_oups_):\n",
    "    train_inp__ = []\n",
    "    train_oup__ = []\n",
    "    for i in range(len(train_inps_)):\n",
    "        train_inp__.extend(train_inps_[i])\n",
    "        train_oup__.extend(train_oups_[i])\n",
    "    md = CNN()\n",
    "    md.setup()\n",
    "    train_oup__ = np.array(train_oup__)\n",
    "    train_inp__ = np.array(train_inp__)\n",
    "    md.setData(train_inp__,train_oup__)\n",
    "    sess = getSession()\n",
    "    md.train('FMNDH', 'GlobalDH-' + sess, epochs_=epochs, verbose_=2)\n",
    "    return md"
   ]
  },
  {
   "cell_type": "code",
   "execution_count": null,
   "metadata": {},
   "outputs": [],
   "source": [
    "mod_clean = honestTrainGlobal(epochs, train_inp, train_oup)"
   ]
  },
  {
   "cell_type": "code",
   "execution_count": null,
   "metadata": {},
   "outputs": [],
   "source": [
    "testMulti(test_inps, test_oups, mod_clean)"
   ]
  },
  {
   "cell_type": "code",
   "execution_count": null,
   "metadata": {},
   "outputs": [],
   "source": [
    "def_ratios = [0.103, 0.254, 0.410, 0.521, 0.642, 0.765]\n",
    "for def_ratio in def_ratios:\n",
    "    train_oups_poisoned = poison(train_oups, def_ratio)\n",
    "    mod_poisoned = dishonestTrain(epochs, train_inps, train_oups_poisoned)\n",
    "    testMulti(test_inps, test_oups, mod_poisoned)"
   ]
  }
 ],
 "metadata": {
  "interpreter": {
   "hash": "bb9c770599c29accaf2a9240ce1368d4cdf7f8298a578ed060299133d1d1d8bb"
  },
  "kernelspec": {
   "display_name": "Python 3.7.9 64-bit",
   "language": "python",
   "name": "python3"
  },
  "language_info": {
   "codemirror_mode": {
    "name": "ipython",
    "version": 3
   },
   "file_extension": ".py",
   "mimetype": "text/x-python",
   "name": "python",
   "nbconvert_exporter": "python",
   "pygments_lexer": "ipython3",
   "version": "3.7.9"
  },
  "orig_nbformat": 4
 },
 "nbformat": 4,
 "nbformat_minor": 2
}
