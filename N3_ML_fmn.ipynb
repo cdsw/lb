{
 "cells": [
  {
   "cell_type": "code",
   "execution_count": null,
   "metadata": {},
   "outputs": [],
   "source": [
    "from N1_dataprep_mnist import *\n",
    "from tensorflow.keras.models import Sequential\n",
    "from tensorflow.keras.layers import Dense, Flatten, Conv2D, Dropout, MaxPooling2D\n",
    "from tensorflow.keras.optimizers import Adam"
   ]
  },
  {
   "cell_type": "code",
   "execution_count": null,
   "metadata": {},
   "outputs": [],
   "source": [
    "# ML Part\n",
    "test_ratio = 0.2\n",
    "train_inp, test_inp, train_oup, test_oup = split(fetch(), test_ratio)\n",
    "\n",
    "#train_in = to_numpy(train_in)\n",
    "# FL part\n",
    "#portions = [1,2,4]\n",
    "#sets = load_all(portions, test_ratio)\n",
    "# Sets: describes the data for each node"
   ]
  },
  {
   "cell_type": "code",
   "execution_count": null,
   "metadata": {},
   "outputs": [],
   "source": [
    "class CNN(Model):\n",
    "    def __init__(self):\n",
    "        super().__init__()\n",
    "\n",
    "    def setup(self):\n",
    "        self.model = Sequential()\n",
    "        self.model.add(Conv2D(16, (3, 3), activation='relu', input_shape=(28, 28, 1)))\n",
    "        self.model.add(MaxPooling2D((2, 2)))\n",
    "        self.model.add(Dropout(0.15))\n",
    "        self.model.add(Conv2D(32, (3, 3), activation='relu'))\n",
    "        self.model.add(MaxPooling2D((2, 2)))\n",
    "        self.model.add(Dropout(0.15))\n",
    "        self.model.add(Conv2D(32, (3, 3), activation='relu'))\n",
    "        self.model.add(Flatten())\n",
    "        self.model.add(Dense(32, activation='relu'))\n",
    "        self.model.add(Dense(10))\n",
    "        opt = Adam(learning_rate=0.004)\n",
    "        self.model.compile(optimizer=opt, loss='mse', metrics=['accuracy'])"
   ]
  },
  {
   "cell_type": "code",
   "execution_count": null,
   "metadata": {},
   "outputs": [],
   "source": [
    "epochs = 2\n",
    "\n",
    "c = CNN()\n",
    "c.setup()\n",
    "c.setData(train_inp,train_oup)\n",
    "history = c.train(epochs_=epochs)"
   ]
  },
  {
   "cell_type": "code",
   "execution_count": null,
   "metadata": {},
   "outputs": [],
   "source": [
    "#c.drawHist('accuracy')\n",
    "score = c.model.evaluate(test_inp, test_oup, verbose=0)\n",
    "print(score)"
   ]
  }
 ],
 "metadata": {
  "interpreter": {
   "hash": "bb9c770599c29accaf2a9240ce1368d4cdf7f8298a578ed060299133d1d1d8bb"
  },
  "kernelspec": {
   "display_name": "Python 3.7.9 64-bit",
   "language": "python",
   "name": "python3"
  },
  "language_info": {
   "codemirror_mode": {
    "name": "ipython",
    "version": 3
   },
   "file_extension": ".py",
   "mimetype": "text/x-python",
   "name": "python",
   "nbconvert_exporter": "python",
   "pygments_lexer": "ipython3",
   "version": "3.7.9"
  },
  "orig_nbformat": 4
 },
 "nbformat": 4,
 "nbformat_minor": 2
}
