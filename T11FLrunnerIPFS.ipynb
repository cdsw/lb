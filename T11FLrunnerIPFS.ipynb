{
 "cells": [
  {
   "cell_type": "code",
   "execution_count": 1,
   "source": [
    "from T10FLWIPFS import *"
   ],
   "outputs": [
    {
     "output_type": "stream",
     "name": "stderr",
     "text": [
      "2021-09-04 18:00:56.361698: W tensorflow/stream_executor/platform/default/dso_loader.cc:64] Could not load dynamic library 'libcudart.so.11.0'; dlerror: libcudart.so.11.0: cannot open shared object file: No such file or directory\n",
      "2021-09-04 18:00:56.361745: I tensorflow/stream_executor/cuda/cudart_stub.cc:29] Ignore above cudart dlerror if you do not have a GPU set up on your machine.\n"
     ]
    }
   ],
   "metadata": {}
  },
  {
   "cell_type": "code",
   "execution_count": 2,
   "source": [
    "# CLEAR IPFS\r\n",
    "def clipfs():\r\n",
    "    os.system('ipfs pin ls --type recursive | cut d\\' \\'-f1 | xargs -n1 ipfs pin rm')\r\n",
    "    os.system('ipfs repo gc')\r\n",
    "#clipfs()"
   ],
   "outputs": [],
   "metadata": {}
  },
  {
   "cell_type": "code",
   "execution_count": 3,
   "source": [
    "# Builder\r\n",
    "dat = 'trips_simpler.csv'\r\n",
    "bin_ = '40T'\r\n",
    "company = [4,5]#[2,3,4,5]\r\n",
    "location = [3]#[mk for mk in range(9)]\r\n",
    "frame_in = binToWindows(bin_)\r\n",
    "frame_out = 2\r\n",
    "ratio = 0.8"
   ],
   "outputs": [],
   "metadata": {}
  },
  {
   "cell_type": "code",
   "execution_count": 4,
   "source": [
    "# Distribute data to clients\r\n",
    "db = DistributorI(dat, company, location)\r\n",
    "db.divByCompany()\r\n",
    "clients = db.extractClients()"
   ],
   "outputs": [
    {
     "output_type": "stream",
     "name": "stdout",
     "text": [
      "Sum of all datalist: 1043 | Sum of all tested: 205\n"
     ]
    },
    {
     "output_type": "stream",
     "name": "stderr",
     "text": [
      "2021-09-04 18:01:06.396391: W tensorflow/stream_executor/platform/default/dso_loader.cc:64] Could not load dynamic library 'libcuda.so.1'; dlerror: libcuda.so.1: cannot open shared object file: No such file or directory\n",
      "2021-09-04 18:01:06.396421: W tensorflow/stream_executor/cuda/cuda_driver.cc:326] failed call to cuInit: UNKNOWN ERROR (303)\n",
      "2021-09-04 18:01:06.396435: I tensorflow/stream_executor/cuda/cuda_diagnostics.cc:156] kernel driver does not appear to be running on this host (cl): /proc/driver/nvidia/version does not exist\n",
      "2021-09-04 18:01:06.396567: I tensorflow/core/platform/cpu_feature_guard.cc:142] This TensorFlow binary is optimized with oneAPI Deep Neural Network Library (oneDNN) to use the following CPU instructions in performance-critical operations:  AVX2\n",
      "To enable them in other operations, rebuild TensorFlow with the appropriate compiler flags.\n"
     ]
    },
    {
     "output_type": "stream",
     "name": "stdout",
     "text": [
      "Sum of all datalist: 39510 | Sum of all tested: 8002\n"
     ]
    }
   ],
   "metadata": {}
  },
  {
   "cell_type": "code",
   "execution_count": 5,
   "source": [
    "# Server simulation\n",
    "epochs = 2\n",
    "iterations = 2\n",
    "serv = ServerI(clients, frame_in, frame_out, epochs_=int(epochs/iterations))\n"
   ],
   "outputs": [],
   "metadata": {}
  },
  {
   "cell_type": "code",
   "execution_count": 6,
   "source": [
    "serv.iterate(iterations)"
   ],
   "outputs": [
    {
     "output_type": "stream",
     "name": "stdout",
     "text": [
      "\n",
      "Iteration 1 of 2 | "
     ]
    },
    {
     "output_type": "stream",
     "name": "stderr",
     "text": [
      "2021-09-04 18:01:16.589306: I tensorflow/compiler/mlir/mlir_graph_optimization_pass.cc:176] None of the MLIR Optimization Passes are enabled (registered 2)\n",
      "2021-09-04 18:01:16.589606: I tensorflow/core/platform/profile_utils/cpu_utils.cc:114] CPU Frequency: 2592000000 Hz\n"
     ]
    },
    {
     "output_type": "stream",
     "name": "stdout",
     "text": [
      "Cli# 4: 1.03 sec; Cli# 5: 1.26 sec;  | Glob: 0.34s, Train: 2.95s, Aggr: 0.49s.\n",
      "\n",
      "Iteration 2 of 2 | Cli# 4: 0.97 sec; Cli# 5: 1.28 sec;  | Glob: 0.54s, Train: 2.83s, Aggr: 0.81s.\n"
     ]
    },
    {
     "output_type": "execute_result",
     "data": {
      "text/plain": [
       "<T10FLWIPFSNEW.ServerI at 0x7effc3632250>"
      ]
     },
     "metadata": {},
     "execution_count": 6
    }
   ],
   "metadata": {}
  },
  {
   "cell_type": "code",
   "execution_count": 7,
   "source": [
    "for c in serv.clients:\n",
    "    c.predict(frame_in,frame_out, verbose_=True)"
   ],
   "outputs": [
    {
     "output_type": "stream",
     "name": "stdout",
     "text": [
      "Total demand  = [205] || Average demand  = 0.98 || RMSE  = [95.25]% || MAPE  = 1.7625164859041846%\n",
      "Total demand  = [8002] || Average demand  = 38.28 || RMSE  = [15.25]% || MAPE  = 0.18012681543547604%\n"
     ]
    }
   ],
   "metadata": {}
  },
  {
   "cell_type": "code",
   "execution_count": null,
   "source": [],
   "outputs": [],
   "metadata": {}
  }
 ],
 "metadata": {
  "orig_nbformat": 4,
  "language_info": {
   "name": "python",
   "version": "3.8.8",
   "mimetype": "text/x-python",
   "codemirror_mode": {
    "name": "ipython",
    "version": 3
   },
   "pygments_lexer": "ipython3",
   "nbconvert_exporter": "python",
   "file_extension": ".py"
  },
  "kernelspec": {
   "name": "python3",
   "display_name": "Python 3.8.8 64-bit ('base': conda)"
  },
  "interpreter": {
   "hash": "1869290e7ffbda500f2058d1fc448c155d136953b2e2069a8572d844cde6d08c"
  }
 },
 "nbformat": 4,
 "nbformat_minor": 2
}