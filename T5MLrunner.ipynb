{
 "cells": [
  {
   "cell_type": "code",
   "execution_count": 7,
   "metadata": {},
   "outputs": [],
   "source": [
    "from T4MLTraining import *"
   ]
  },
  {
   "cell_type": "code",
   "execution_count": 8,
   "metadata": {},
   "outputs": [],
   "source": [
    "# Builder\n",
    "dat = 'trips_simpler.csv'\n",
    "bin_ = '40T'\n",
    "\n",
    "company = [2,3,4,5]\n",
    "location = [mk for mk in range(9)]\n",
    "company_test = [2,3,4,5]\n",
    "location_test = [3,4]\n",
    "frame_in = binToWindows(bin_)\n",
    "frame_out = 2\n",
    "ratio = 0.8"
   ]
  },
  {
   "cell_type": "code",
   "execution_count": 9,
   "metadata": {},
   "outputs": [
    {
     "name": "stdout",
     "output_type": "stream",
     "text": [
      "Sum of all datalist: 15957819 | Sum of all tested: 1504443\n"
     ]
    }
   ],
   "source": [
    "# Data Preparation\n",
    "tr = DataPrep(dat, company, location, company_test, location_test, bin_, frame_out, ratio)\n",
    "tr.setup()\n",
    "\n",
    "inp_train, out_train, inp_test, out_test = tr.extract()\n",
    "del tr"
   ]
  },
  {
   "cell_type": "code",
   "execution_count": 10,
   "metadata": {},
   "outputs": [
    {
     "name": "stdout",
     "output_type": "stream",
     "text": [
      "Training time: 30.74813175201416 seconds.\n"
     ]
    }
   ],
   "source": [
    "# Model building and training\n",
    "model_1 = CNNLSTM(frame_in, frame_out, epochs=110)\n",
    "model_1.setData(inp_train,array(out_train))\n",
    "ts = time.time()\n",
    "model_1.train()\n",
    "te = time.time()\n",
    "print(\"Training time: \" + str(te - ts) + \" seconds.\")\n",
    "#model_1.drawLoss()\n"
   ]
  },
  {
   "cell_type": "code",
   "execution_count": 11,
   "metadata": {},
   "outputs": [
    {
     "name": "stdout",
     "output_type": "stream",
     "text": [
      "Sum of all datalist: 14453997 | Sum of all tested: 621\n",
      "Total demand test = [621] || Average demand test = 2.97 || RMSE test = [57.16]% || Sum of all datalist: 14488024 | Sum of all tested: 34648\n",
      "Total demand test = [34648] || Average demand test = 165.77 || RMSE test = [12.68]% || Sum of all datalist: 14488877 | Sum of all tested: 35501\n",
      "Total demand test = [35501] || Average demand test = 169.86 || RMSE test = [12.59]% || Sum of all datalist: 15436508 | Sum of all tested: 983132\n",
      "Total demand test = [983132] || Average demand test = 4703.98 || RMSE test = [7.88]% || Sum of all datalist: 14453581 | Sum of all tested: 205\n",
      "Total demand test = [205] || Average demand test = 0.98 || RMSE test = [101.]% || Sum of all datalist: 14586164 | Sum of all tested: 132788\n",
      "Total demand test = [132788] || Average demand test = 635.34 || RMSE test = [17.22]% || Sum of all datalist: 14461378 | Sum of all tested: 8002\n",
      "Total demand test = [8002] || Average demand test = 38.28 || RMSE test = [17.14]% || Sum of all datalist: 14762921 | Sum of all tested: 309545\n",
      "Total demand test = [309545] || Average demand test = 1481.07 || RMSE test = [9.52]% || Sum of all datalist: 18381843 | Sum of all tested: 3928467\n",
      "Total demand test = [3928467] || Average demand test = 18796.49 || RMSE test = [4.76]% || "
     ]
    }
   ],
   "source": [
    "# Prediction\n",
    "def testTrain():\n",
    "    pred_train = Prediction(inp_train, out_train, model_1, frame_in, frame_out)\n",
    "    pred_train.predict()\n",
    "    pred_train.summary(\"train\")\n",
    "    #pred_train_out = pred_train.extract()\n",
    "    del pred_train\n",
    "\n",
    "def testBatch(pairs): #e.g. [[2,3],[2,4],[3,4]]\n",
    "    for company_test,location_test in pairs:\n",
    "        tr = DataPrep(dat, company, location, company_test, location_test, bin_, frame_out, ratio)\n",
    "        tr.setup()\n",
    "        _, _, inp_test, out_test = tr.extract()\n",
    "        del tr\n",
    "\n",
    "        pred_test = Prediction(inp_test, out_test, model_1, frame_in, frame_out)\n",
    "        pred_test.predict()\n",
    "        pred_test.summary(\"test\")\n",
    "        _ = pred_test.extract()\n",
    "        del pred_test\n",
    "\n",
    "pairs = [[[2],[3]],[[2],[4]],[[3],[3]],[[3],[4]],[[4],[3]],[[4],[4]],[[5],[3]],[[5],[4]],[[2,3,4,5],[0,1,2,3,4,5,6,7,8]]]\n",
    "testBatch(pairs)"
   ]
  },
  {
   "cell_type": "code",
   "execution_count": 12,
   "metadata": {},
   "outputs": [],
   "source": [
    "# Visualization\n",
    "#samp_test = getSample(inp_test,pred_test_out,out_test,samples=6)\n",
    "#visualize(samp_test)"
   ]
  },
  {
   "cell_type": "code",
   "execution_count": null,
   "metadata": {},
   "outputs": [],
   "source": []
  }
 ],
 "metadata": {
  "interpreter": {
   "hash": "bb9c770599c29accaf2a9240ce1368d4cdf7f8298a578ed060299133d1d1d8bb"
  },
  "kernelspec": {
   "display_name": "Python 3.7.9 64-bit",
   "name": "python3"
  },
  "language_info": {
   "codemirror_mode": {
    "name": "ipython",
    "version": 3
   },
   "file_extension": ".py",
   "mimetype": "text/x-python",
   "name": "python",
   "nbconvert_exporter": "python",
   "pygments_lexer": "ipython3",
   "version": "3.7.9"
  },
  "orig_nbformat": 4
 },
 "nbformat": 4,
 "nbformat_minor": 2
}
