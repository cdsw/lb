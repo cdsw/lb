{
 "cells": [
  {
   "cell_type": "code",
   "execution_count": null,
   "metadata": {},
   "outputs": [],
   "source": [
    "from N3_FL import *"
   ]
  },
  {
   "cell_type": "code",
   "execution_count": null,
   "metadata": {},
   "outputs": [],
   "source": [
    "model_dir = \"./models/\"\n",
    "count = 7\n",
    "test_ratio = 0.25\n",
    "\n",
    "try:\n",
    "    train_inps = pickle.load(open(\"./temp/trinps\", \"rb\"))\n",
    "    train_oups = pickle.load(open(\"./temp/troups\", \"rb\"))\n",
    "    test_inps = pickle.load(open(\"./temp/teinps\", \"rb\"))\n",
    "    test_oups = pickle.load(open(\"./temp/teoups\", \"rb\"))\n",
    "    test_inp = pickle.load(open(\"./temp/teinp\", \"rb\"))\n",
    "    test_oup = pickle.load(open(\"./temp/teoup\", \"rb\"))\n",
    "except:\n",
    "    train_inp, test_inp, train_oup, test_oup = split(fetch(), test_ratio)\n",
    "    train_inps = buildPortions(count, train_inp)\n",
    "    train_oups = buildPortions(count, train_oup)\n",
    "    test_inps = buildPortions(count, test_inp)\n",
    "    test_oups = buildPortions(count, test_oup)\n",
    "    pickle.dump(train_inps, open(\"./temp/trinps\", \"wb\"))\n",
    "    pickle.dump(train_oups, open(\"./temp/troups\", \"wb\"))\n",
    "    pickle.dump(test_inps, open(\"./temp/teinps\", \"wb\"))\n",
    "    pickle.dump(test_oups, open(\"./temp/teoups\", \"wb\"))\n",
    "    pickle.dump(test_inp, open(\"./temp/teinp\", \"wb\"))\n",
    "    pickle.dump(test_oup, open(\"./temp/teoup\", \"wb\"))"
   ]
  },
  {
   "cell_type": "code",
   "execution_count": null,
   "metadata": {},
   "outputs": [],
   "source": [
    "epochs = 2\n",
    "rounds = 2\n",
    "#server = buildFL(train_inps, train_oups, test_inps, test_oups, test_inp, test_oup, epochs, rounds)\n",
    "#server.iterate()"
   ]
  },
  {
   "cell_type": "code",
   "execution_count": null,
   "metadata": {},
   "outputs": [],
   "source": [
    "client_poisoning = [[], [5,4],[6,4,3],[1],[4,2,1],[0],[2,0]]"
   ]
  },
  {
   "cell_type": "code",
   "execution_count": null,
   "metadata": {},
   "outputs": [],
   "source": [
    "ep_it = [(2,1),(4,1),(8,1),(16,1),(1,2),(1,4),(2,2),(4,2),(2,4),(4,4)] #,(8,2),(2,8)\n"
   ]
  },
  {
   "cell_type": "code",
   "execution_count": null,
   "metadata": {},
   "outputs": [],
   "source": [
    "simulFL(client_poisoning, ep_it, train_inps, train_oups, test_inps, test_oups, test_inp, test_oup)"
   ]
  }
 ],
 "metadata": {
  "language_info": {
   "name": "python"
  },
  "orig_nbformat": 4
 },
 "nbformat": 4,
 "nbformat_minor": 2
}
