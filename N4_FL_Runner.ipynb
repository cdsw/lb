{
 "cells": [
  {
   "cell_type": "code",
   "execution_count": 1,
   "metadata": {},
   "outputs": [],
   "source": [
    "from N3_FL import *"
   ]
  },
  {
   "cell_type": "code",
   "execution_count": 2,
   "metadata": {},
   "outputs": [
    {
     "name": "stdout",
     "output_type": "stream",
     "text": [
      "[26456, 13228, 6614, 3307, 1653, 826, 413]\n",
      "[26456, 13228, 6614, 3307, 1653, 826, 413]\n",
      "[8818, 4409, 2204, 1102, 551, 275, 137]\n",
      "[8818, 4409, 2204, 1102, 551, 275, 137]\n"
     ]
    }
   ],
   "source": [
    "model_dir = \"./models/\"\n",
    "count = 7\n",
    "test_ratio = 0.25\n",
    "\n",
    "try:\n",
    "    train_inps = pickle.load(open(\"./temp/trinps\", \"rb\"))\n",
    "    train_oups = pickle.load(open(\"./temp/troups\", \"rb\"))\n",
    "    test_inps = pickle.load(open(\"./temp/teinps\", \"rb\"))\n",
    "    test_oups = pickle.load(open(\"./temp/teoups\", \"rb\"))\n",
    "    test_inp = pickle.load(open(\"./temp/teinp\", \"rb\"))\n",
    "    test_oup = pickle.load(open(\"./temp/teoup\", \"rb\"))\n",
    "except:\n",
    "    train_inp, test_inp, train_oup, test_oup = split(fetch(), test_ratio)\n",
    "    train_inps = buildPortions(count, train_inp)\n",
    "    train_oups = buildPortions(count, train_oup)\n",
    "    test_inps = buildPortions(count, test_inp)\n",
    "    test_oups = buildPortions(count, test_oup)\n",
    "    pickle.dump(train_inps, open(\"./temp/trinps\", \"wb\"))\n",
    "    pickle.dump(train_oups, open(\"./temp/troups\", \"wb\"))\n",
    "    pickle.dump(test_inps, open(\"./temp/teinps\", \"wb\"))\n",
    "    pickle.dump(test_oups, open(\"./temp/teoups\", \"wb\"))\n",
    "    pickle.dump(test_inp, open(\"./temp/teinp\", \"wb\"))\n",
    "    pickle.dump(test_oup, open(\"./temp/teoup\", \"wb\"))"
   ]
  },
  {
   "cell_type": "code",
   "execution_count": 3,
   "metadata": {},
   "outputs": [],
   "source": [
    "epochs = 2\n",
    "rounds = 2\n",
    "#server = buildFL(train_inps, train_oups, test_inps, test_oups, test_inp, test_oup, epochs, rounds)\n",
    "#server.iterate()"
   ]
  },
  {
   "cell_type": "code",
   "execution_count": 4,
   "metadata": {},
   "outputs": [],
   "source": [
    "client_poisoning = [[], [5,4],[6,4,3],[1],[4,2,1],[0],[2,0]]"
   ]
  },
  {
   "cell_type": "code",
   "execution_count": 5,
   "metadata": {},
   "outputs": [],
   "source": [
    "#ep_it = [(2,1),(4,1),(8,1),(16,1),(1,2),(1,4),(2,2),(4,2),(2,4),(4,4)] #,(8,2),(2,8)\n",
    "ep_it = [(2,2)]\n"
   ]
  },
  {
   "cell_type": "code",
   "execution_count": 6,
   "metadata": {},
   "outputs": [
    {
     "name": "stdout",
     "output_type": "stream",
     "text": [
      "EP =  2 IT =  2, POI = []\n",
      "Iteration 1 of 2 | Cli# 0: 6.70 sec, Q: 0.7468; Cli# 1: 4.04 sec, Q: 0.7247; Cli# 2: 1.94 sec, Q: 0.6256; Cli# 3: 1.19 sec, Q: 0.4126; Cli# 4: 1.32 sec, Q: 0.3051; Cli# 5: 0.74 sec, Q: 0.1889; Cli# 6: 1.09 sec, Q: 0.2039; -0.2557135 weight 0.40302606167694904\n",
      "-0.30357218 weight 0.27653020464028466\n",
      "-0.2667436 weight 0.16881484893307114\n",
      "-0.22861896 weight 0.07871923172612517\n",
      "-0.22839817 weight 0.041153724296995556\n",
      "-0.22004469 weight 0.01800888410064706\n",
      "-0.21527027 weight 0.013747044625927476\n",
      "-0.26635462 combine-weights\n",
      " | Glob: 17.03s, Train: 47.77s, Aggr: 29.35s.\n",
      "Iteration 2 of 2 | Cli# 0: 6.27 sec, Q: 0.7683; Cli# 1: 3.02 sec, Q: 0.7542; Cli# 2: 1.89 sec, Q: 0.7360; Cli# 3: 1.38 sec, Q: 0.7376; Cli# 4: 1.04 sec, Q: 0.7606; "
     ]
    }
   ],
   "source": [
    "simulFL(client_poisoning, ep_it, train_inps, train_oups, test_inps, test_oups, test_inp, test_oup)"
   ]
  }
 ],
 "metadata": {
  "interpreter": {
   "hash": "b4d90c09af09b1d71305c532423b18b43647cb4674c6c91532e635756339f1f1"
  },
  "kernelspec": {
   "display_name": "Python 3.7.9 64-bit",
   "language": "python",
   "name": "python3"
  },
  "language_info": {
   "codemirror_mode": {
    "name": "ipython",
    "version": 3
   },
   "file_extension": ".py",
   "mimetype": "text/x-python",
   "name": "python",
   "nbconvert_exporter": "python",
   "pygments_lexer": "ipython3",
   "version": "3.7.9"
  },
  "orig_nbformat": 4
 },
 "nbformat": 4,
 "nbformat_minor": 2
}
