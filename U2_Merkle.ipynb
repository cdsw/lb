{
 "cells": [
  {
   "cell_type": "code",
   "execution_count": 1,
   "metadata": {},
   "outputs": [],
   "source": [
    "# adapted from droid76's code\n",
    "from pympler.asizeof import asizeof"
   ]
  },
  {
   "cell_type": "code",
   "execution_count": 2,
   "metadata": {},
   "outputs": [],
   "source": [
    "def toHash(value):\n",
    "    return str(hash(str(value)))\n",
    "\n",
    "def concat(a, b):\n",
    "    return a + b\n",
    "    \n",
    "class BogusStringTemplate:\n",
    "    def __init__(self, string_):\n",
    "        self.string = string_\n",
    "\n",
    "    def write(self, *argv):\n",
    "        for x in argv:\n",
    "            self.string += str(x)"
   ]
  },
  {
   "cell_type": "code",
   "execution_count": 3,
   "metadata": {},
   "outputs": [],
   "source": [
    "class MerkleTreeNode:\n",
    "    def __init__(self,value):\n",
    "        self.left = None\n",
    "        self.right = None\n",
    "        self.value = value\n",
    "        self.hashValue = toHash(value)"
   ]
  },
  {
   "cell_type": "code",
   "execution_count": 4,
   "metadata": {},
   "outputs": [],
   "source": [
    "class Tree:\n",
    "    def __init__(self, summary, nodes=[]):\n",
    "        self.nodes = nodes\n",
    "        self.summary = summary\n",
    "\n",
    "    def __str__(self):\n",
    "        return self.summary"
   ]
  },
  {
   "cell_type": "code",
   "execution_count": 5,
   "metadata": {},
   "outputs": [],
   "source": [
    "def buildTree(leaves):\n",
    "    nodes = []\n",
    "    summary = BogusStringTemplate(\"\")\n",
    "    f = summary\n",
    "    for i in leaves:\n",
    "        nodes.append(MerkleTreeNode(i))\n",
    "\n",
    "    while len(nodes)!=1:\n",
    "        temp = []\n",
    "        for i in range(0,len(nodes),2):\n",
    "            node1 = nodes[i]\n",
    "            if i+1 < len(nodes):\n",
    "                node2 = nodes[i+1]\n",
    "            else:\n",
    "                temp.append(nodes[i])\n",
    "                break\n",
    "            f.write(\"Left child : \", node1.value + \" | Hash : \" + node1.hashValue +\" \\n\")\n",
    "            f.write(\"Right child : \", node2.value + \" | Hash : \" + node2.hashValue +\" \\n\")\n",
    "            concatenatedHash = node1.hashValue + node2.hashValue\n",
    "            parent = MerkleTreeNode(concatenatedHash)\n",
    "            parent.left = node1\n",
    "            parent.right = node2\n",
    "            f.write(\"Parent(concatenation of \"+ node1.value + \" and \" + node2.value + \") : \" +parent.value + \" | Hash : \" + parent.hashValue +\" \\n\")\n",
    "            temp.append(parent)\n",
    "        nodes = temp\n",
    "    return Tree(f.string, nodes[0])"
   ]
  },
  {
   "cell_type": "code",
   "execution_count": 6,
   "metadata": {},
   "outputs": [
    {
     "data": {
      "text/plain": [
       "7096"
      ]
     },
     "execution_count": 6,
     "metadata": {},
     "output_type": "execute_result"
    }
   ],
   "source": [
    "leaves = [str(hash(x)) for x in range(1,9)]\n",
    "t = buildTree(leaves)\n",
    "asizeof(t)"
   ]
  },
  {
   "cell_type": "code",
   "execution_count": 7,
   "metadata": {},
   "outputs": [],
   "source": [
    "def isIdentical(treeA, treeB):\n",
    "    pass\n",
    "\n",
    "def checkConsistency(leaves1,leaves2):\n",
    "    i=0\n",
    "    while i<len(leaves1):\n",
    "        if leaves1[i]!=leaves2[i]:\n",
    "            break\n",
    "        i+=1\n",
    "    if i < len(leaves1):\n",
    "        return []\n",
    "    s = \"\"\n",
    "    s += \"Merkle Tree 1 \\n\"\n",
    "    t1 = buildTree(leaves1)\n",
    "    tree1 = t1.nodes\n",
    "    s += str(t1)\n",
    "    s += \"\\n\\n\"\n",
    "    s += \"Merkle Tree 2 \\n\"\n",
    "    t2 = buildTree(leaves2)\n",
    "    tree2 = t2.nodes\n",
    "    s += str(t2)\n",
    "    op = []\n",
    "    op.append(tree1.hashValue)\n",
    "    data = s.split('\\n')\n",
    "    for i in range(len(data)):\n",
    "        data[i] += '\\n'\n",
    "    data = data[:-1]\n",
    "\n",
    "    tree2Index = 0\n",
    "    for i in range(len(data)):\n",
    "        if data[i].startswith(\"Merkle Tree 2\"):\n",
    "            tree2Index = i\n",
    "    parentLines = []\n",
    "    leftChildLines = []\n",
    "    rightChildLines = []\n",
    "    for i in range(tree2Index,len(data)):\n",
    "        if data[i].startswith(\"Parent(\"):\n",
    "            parentLines.append(data[i])\n",
    "    \n",
    "    for i in range(tree2Index,len(data)):\n",
    "        if data[i].startswith(\"Left\"):\n",
    "            leftChildLines.append(data[i])\n",
    "\n",
    "    for i in range(tree2Index,len(data)):\n",
    "        if data[i].startswith(\"Right\"):\n",
    "            rightChildLines.append(data[i])  \n",
    "    op = []\n",
    "    flag = False\n",
    "    for i in range(len(parentLines)):\n",
    "        if tree1.hashValue in parentLines[i]:\n",
    "            flag = True\n",
    "            break\n",
    "    if flag:\n",
    "        values = []    \n",
    "        combinedHash = ''\n",
    "        lc = tree1.value\n",
    "        while combinedHash != tree2.hashValue:\n",
    "            for i in range(len(leftChildLines)):\n",
    "                if lc in leftChildLines[i].split(\" \")[-6]:\n",
    "                    rc = rightChildLines[i].split(\" \")[-6]\n",
    "                    values.append(toHash(rc))\n",
    "                    break\n",
    "            combinedValue = concat(toHash(lc),toHash(rc))\n",
    "            combinedHash = toHash(combinedValue)\n",
    "            lc = combinedValue\n",
    "            \n",
    "        op.append(tree1.hashValue)\n",
    "        op+=values\n",
    "        op.append(tree2.hashValue)\n",
    "                \n",
    "    else:\n",
    "        root1LeftChildValue = data[tree2Index-5].split(\" \")[-6]\n",
    "        root1RightChildValue = data[tree2Index-4].split(\" \")[-6]\n",
    "        root1RightChildSiblingValue = leaves2[leaves2.index(root1RightChildValue)+1]\n",
    "        values = []\n",
    "        values.append(toHash(root1LeftChildValue))\n",
    "        values.append(toHash(root1RightChildValue))\n",
    "        values.append(toHash(root1RightChildSiblingValue))\n",
    "        root1RightChildCombinedValue = concat(toHash(root1RightChildValue),toHash(root1RightChildSiblingValue))        \n",
    "        combinedHash = ''\n",
    "        lc = root1LeftChildValue\n",
    "        rc = root1RightChildCombinedValue\n",
    "        while combinedHash != tree2.hashValue:\n",
    "            combinedValue = concat(toHash(lc),toHash(rc))\n",
    "            combinedHash = toHash(combinedValue)\n",
    "            lc = combinedValue\n",
    "            for i in range(len(leftChildLines)):\n",
    "                if lc in leftChildLines[i].split(\" \")[-6]:\n",
    "                    rc = rightChildLines[i].split(\" \")[-6]\n",
    "                    values.append(toHash(rc))\n",
    "                    break\n",
    "            \n",
    "        op.append(tree1.hashValue)\n",
    "        op+=values\n",
    "        op.append(tree2.hashValue)\n",
    "                \n",
    "    return op\n",
    "\n",
    "def checkConsistencyWrap(tree1, tree2):\n",
    "    # true if identical, false if different\n",
    "    try:\n",
    "        checkConsistency(tree1,tree2)\n",
    "        return False\n",
    "    except:\n",
    "        return True"
   ]
  },
  {
   "cell_type": "code",
   "execution_count": 20,
   "metadata": {},
   "outputs": [
    {
     "data": {
      "text/plain": [
       "True"
      ]
     },
     "execution_count": 20,
     "metadata": {},
     "output_type": "execute_result"
    }
   ],
   "source": [
    "tree1 = [str(hash(x)) for x in range(51,68)]\n",
    "tree2 = [str(hash(x)) for x in range(51,68)]\n",
    "\n",
    "checkConsistencyWrap(tree1, tree2)"
   ]
  },
  {
   "cell_type": "code",
   "execution_count": 16,
   "metadata": {},
   "outputs": [],
   "source": [
    "def isInTree(inputString,tree):\n",
    "    tree = convertToParseable(str(buildTree(tree)).split('\\n'))\n",
    "    op = []\n",
    "    for key,value in tree.items():\n",
    "        if inputString in key:\n",
    "            op.append(value)\n",
    "            inputString = value\n",
    "    return len(op)> 0\n",
    "\n",
    "def convertToParseable(treestr):\n",
    "    tree ={}\n",
    "    for line in treestr[:-1]:\n",
    "        lineArray = line.split(\" \")\n",
    "        if lineArray[0] == 'Parent(concatenation':\n",
    "            tree[lineArray[6]] = lineArray[10]\n",
    "        else:\n",
    "            tree[lineArray[3]] = lineArray[7]\n",
    "    return tree"
   ]
  },
  {
   "cell_type": "code",
   "execution_count": 19,
   "metadata": {},
   "outputs": [
    {
     "data": {
      "text/plain": [
       "True"
      ]
     },
     "execution_count": 19,
     "metadata": {},
     "output_type": "execute_result"
    }
   ],
   "source": [
    "leaves = [toHash(m) for m in [1,2,3,4,5]]\n",
    "\n",
    "to_check = 3\n",
    "isInTree(toHash(to_check),leaves)\n"
   ]
  },
  {
   "cell_type": "code",
   "execution_count": null,
   "metadata": {},
   "outputs": [],
   "source": []
  }
 ],
 "metadata": {
  "interpreter": {
   "hash": "bb9c770599c29accaf2a9240ce1368d4cdf7f8298a578ed060299133d1d1d8bb"
  },
  "kernelspec": {
   "display_name": "Python 3.7.9 64-bit",
   "language": "python",
   "name": "python3"
  },
  "language_info": {
   "codemirror_mode": {
    "name": "ipython",
    "version": 3
   },
   "file_extension": ".py",
   "mimetype": "text/x-python",
   "name": "python",
   "nbconvert_exporter": "python",
   "pygments_lexer": "ipython3",
   "version": "3.7.9"
  },
  "orig_nbformat": 4
 },
 "nbformat": 4,
 "nbformat_minor": 2
}
