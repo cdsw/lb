{
 "cells": [
  {
   "cell_type": "code",
   "execution_count": 12,
   "metadata": {},
   "outputs": [],
   "source": [
    "#os.environ[\"TF_CPP_MIN_LOG_LEVEL\"] = \"0\"\n",
    "from N2_dataprep_time import *\n",
    "from tensorflow.keras.models import Sequential\n",
    "from tensorflow.keras.layers import LSTM, Dense, Flatten, TimeDistributed, Conv1D, MaxPooling1D"
   ]
  },
  {
   "cell_type": "code",
   "execution_count": 13,
   "metadata": {},
   "outputs": [],
   "source": [
    "epochs = 1\n",
    "frame_in = 24\n",
    "frame_out = 2\n",
    "test_ratio = 0.2"
   ]
  },
  {
   "cell_type": "code",
   "execution_count": 14,
   "metadata": {},
   "outputs": [],
   "source": [
    "class CNNLSTM(Model):\n",
    "    def __init__(self):\n",
    "        super().__init__()\n",
    "\n",
    "    def setup(self, frame_in, frame_out, filters_=24, kernel_size_=5, pool_size_=4):\n",
    "        self.model = Sequential()\n",
    "        self.model.add(TimeDistributed(Conv1D(filters=filters_, kernel_size=kernel_size_, activation='relu'), input_shape=(None, frame_in, 1)))\n",
    "        self.model.add(TimeDistributed(MaxPooling1D(pool_size=pool_size_)))\n",
    "        self.model.add(TimeDistributed(Flatten()))\n",
    "        self.model.add(LSTM(24, activation='relu'))\n",
    "        self.model.add(Dense(frame_out))\n",
    "        self.model.compile(optimizer='adam', loss='mse')"
   ]
  },
  {
   "cell_type": "code",
   "execution_count": 15,
   "metadata": {},
   "outputs": [],
   "source": [
    "str_fn = '-'+str(frame_in)+'-'+str(frame_out)\n",
    "try:\n",
    "    train_inp = pk.load(open(\"temp/trinp\"+str_fn, 'rb'))\n",
    "    train_oup = pk.load(open(\"temp/troup\"+str_fn, 'rb'))\n",
    "    test_inp = pk.load(open(\"temp/teinp\"+str_fn, 'rb'))\n",
    "    test_oup = pk.load(open(\"temp/teoup\"+str_fn, 'rb'))\n",
    "except:\n",
    "    train_inp, train_oup, test_inp, test_oup = compound(setup(test_ratio, frame_in, frame_out))\n",
    "    pk.dump(train_inp, open(\"temp/trinp\"+str_fn, 'wb'))\n",
    "    pk.dump(train_oup, open(\"temp/troup\"+str_fn, 'wb'))\n",
    "    pk.dump(test_inp, open(\"temp/teinp\"+str_fn, 'wb'))\n",
    "    pk.dump(test_oup, open(\"temp/teoup\"+str_fn, 'wb'))"
   ]
  },
  {
   "cell_type": "code",
   "execution_count": 16,
   "metadata": {},
   "outputs": [],
   "source": [
    "train_limit = len(train_inp) // 20\n",
    "test_limit = len(test_inp) // 20\n",
    "\n",
    "train_limited_inp = train_inp[:train_limit]\n",
    "train_limited_oup = train_oup[:train_limit]\n",
    "test_limited_inp = test_inp[:test_limit]\n",
    "test_limited_oup = test_oup[:test_limit]\n",
    "\n",
    "c = CNNLSTM()\n",
    "c.setup(frame_in, frame_out)\n",
    "\n",
    "c.setData(train_limited_inp, train_limited_oup)\n",
    "# c.summarize()"
   ]
  },
  {
   "cell_type": "code",
   "execution_count": 17,
   "metadata": {},
   "outputs": [
    {
     "name": "stdout",
     "output_type": "stream",
     "text": [
      "53/53 - 1s - loss: 0.0016 - val_loss: 1.2205e-04\n"
     ]
    },
    {
     "data": {
      "text/plain": [
       "<keras.callbacks.History at 0x204dc3a3ec8>"
      ]
     },
     "execution_count": 17,
     "metadata": {},
     "output_type": "execute_result"
    }
   ],
   "source": [
    "c.train(epochs_=epochs, verbose_=2, test=(train_limited_inp, train_limited_oup))"
   ]
  },
  {
   "cell_type": "code",
   "execution_count": 18,
   "metadata": {},
   "outputs": [
    {
     "name": "stdout",
     "output_type": "stream",
     "text": [
      "62 | ||||||||Global | TD 3.89194 | TC 62 | AD 0.06 | [9.48]%\n"
     ]
    }
   ],
   "source": [
    "def testCase(test_inp_, test_oup_, model_, frame_in_, frame_out_, epochs__, label_):\n",
    "    p = Prediction(test_inp_, test_oup_, model_, frame_in_, frame_out_)\n",
    "    p.predict()\n",
    "    p.summary(label=label_, epochs_=epochs__)\n",
    "\n",
    "testCase(test_limited_inp, test_limited_oup, c, frame_in, frame_out, epochs, 'Global')"
   ]
  },
  {
   "cell_type": "code",
   "execution_count": 19,
   "metadata": {},
   "outputs": [],
   "source": [
    "def truncateSet(sets):\n",
    "    truncated = []\n",
    "    for s in sets:\n",
    "        truncated.append([s[2],s[3]])\n",
    "    return truncated"
   ]
  },
  {
   "cell_type": "code",
   "execution_count": 20,
   "metadata": {},
   "outputs": [],
   "source": [
    "# Local prediction\n",
    "sets = truncateSet(setup(test_ratio, frame_in, frame_out))"
   ]
  },
  {
   "cell_type": "code",
   "execution_count": 21,
   "metadata": {},
   "outputs": [
    {
     "name": "stdout",
     "output_type": "stream",
     "text": [
      "62 | ||||||||667587 | TD 3.89194 | TC 62 | AD 0.06 | [9.48]%\n",
      "62 | ||||||||463443 | TD 5.42148 | TC 62 | AD 0.08 | [9.56]%\n",
      "62 | ||||||||224726 | TD 4.46448 | TC 62 | AD 0.07 | [6.36]%\n",
      "62 | ||||||||463676 | TD 26.77619 | TC 62 | AD 0.43 | [49.81]%\n",
      "62 | ||||||||129853 | TD 2.34798 | TC 62 | AD 0.03 | [57.63]%\n",
      "62 | ||||||||779492 | TD 16.02940 | TC 62 | AD 0.25 | [39.66]%\n",
      "62 | ||||||||215376 | TD 41.04524 | TC 62 | AD 0.66 | [42.87]%\n",
      "62 | ||||||||409790 | TD 16.81375 | TC 62 | AD 0.27 | [48.37]%\n",
      "62 | ||||||||867992 | TD 1.66374 | TC 62 | AD 0.02 | [94.51]%\n",
      "62 | ||||||||141232 | TD 16.19925 | TC 62 | AD 0.26 | [40.03]%\n",
      "62 | ||||||||722173 | TD 0.21198 | TC 62 | AD 0.0 | [1166.41]%\n",
      "62 | ||||||||676153 | TD 6.12209 | TC 62 | AD 0.09 | [20.09]%\n",
      "62 | ||||||||314186 | TD 10.18646 | TC 62 | AD 0.16 | [30.27]%\n",
      "62 | ||||||||439818 | TD 3.26824 | TC 62 | AD 0.05 | [27.85]%\n",
      "62 | ||||||||783449 | TD 10.13170 | TC 62 | AD 0.16 | [30.78]%\n"
     ]
    }
   ],
   "source": [
    "for s in sets:\n",
    "    testCase(s[0][:test_limit], s[1][:test_limit], c, frame_in, frame_out, epochs, str(hash(str(s)))[1:7])"
   ]
  },
  {
   "cell_type": "code",
   "execution_count": null,
   "metadata": {},
   "outputs": [],
   "source": []
  }
 ],
 "metadata": {
  "interpreter": {
   "hash": "bb9c770599c29accaf2a9240ce1368d4cdf7f8298a578ed060299133d1d1d8bb"
  },
  "kernelspec": {
   "display_name": "Python 3.7.9 64-bit",
   "language": "python",
   "name": "python3"
  },
  "language_info": {
   "codemirror_mode": {
    "name": "ipython",
    "version": 3
   },
   "file_extension": ".py",
   "mimetype": "text/x-python",
   "name": "python",
   "nbconvert_exporter": "python",
   "pygments_lexer": "ipython3",
   "version": "3.7.9"
  },
  "orig_nbformat": 4
 },
 "nbformat": 4,
 "nbformat_minor": 2
}
