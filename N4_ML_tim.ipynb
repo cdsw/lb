{
 "cells": [
  {
   "cell_type": "code",
   "execution_count": 75,
   "metadata": {},
   "outputs": [],
   "source": [
    "#os.environ[\"TF_CPP_MIN_LOG_LEVEL\"] = \"0\"\n",
    "from N2_dataprep_time import *\n",
    "from tensorflow.keras.models import Sequential\n",
    "from tensorflow.keras.layers import LSTM, Dense, Flatten, TimeDistributed, Conv1D, MaxPooling1D\n",
    "from random import shuffle, random"
   ]
  },
  {
   "cell_type": "code",
   "execution_count": 76,
   "metadata": {},
   "outputs": [],
   "source": [
    "epochs = 6\n",
    "frame_in = 48\n",
    "frame_out = 2\n",
    "test_ratio = 0.2"
   ]
  },
  {
   "cell_type": "code",
   "execution_count": 77,
   "metadata": {},
   "outputs": [],
   "source": [
    "class CNNLSTM(Model):\n",
    "    def __init__(self):\n",
    "        super().__init__()\n",
    "        \n",
    "    def setup(self, frame_in, frame_out, filters_=24, kernel_size_=5, pool_size_=4):\n",
    "        self.model = Sequential()\n",
    "        self.model.add(TimeDistributed(Conv1D(filters=filters_, kernel_size=kernel_size_, activation='relu'), input_shape=(None, frame_in, 1)))\n",
    "        self.model.add(TimeDistributed(MaxPooling1D(pool_size=pool_size_)))\n",
    "        self.model.add(TimeDistributed(Flatten()))\n",
    "        self.model.add(LSTM(24, activation='relu'))\n",
    "        self.model.add(Dense(frame_out))\n",
    "        self.model.compile(optimizer='adam', loss='mse')"
   ]
  },
  {
   "cell_type": "code",
   "execution_count": 78,
   "metadata": {},
   "outputs": [],
   "source": [
    "str_fn = '-'+str(frame_in)+'-'+str(frame_out)\n",
    "try:\n",
    "    train_inp = pk.load(open(\"temp/trinp\"+str_fn, 'rb'))\n",
    "    train_oup = pk.load(open(\"temp/troup\"+str_fn, 'rb'))\n",
    "    test_inp = pk.load(open(\"temp/teinp\"+str_fn, 'rb'))\n",
    "    test_oup = pk.load(open(\"temp/teoup\"+str_fn, 'rb'))\n",
    "except:\n",
    "    train_inp, train_oup, test_inp, test_oup = compound(setup(test_ratio, frame_in, frame_out))\n",
    "    pk.dump(train_inp, open(\"temp/trinp\"+str_fn, 'wb'))\n",
    "    pk.dump(train_oup, open(\"temp/troup\"+str_fn, 'wb'))\n",
    "    pk.dump(test_inp, open(\"temp/teinp\"+str_fn, 'wb'))\n",
    "    pk.dump(test_oup, open(\"temp/teoup\"+str_fn, 'wb'))"
   ]
  },
  {
   "cell_type": "code",
   "execution_count": 79,
   "metadata": {},
   "outputs": [],
   "source": [
    "tr_divisor = 1\n",
    "te_divisor = 25\n",
    "\n",
    "train_limit = len(train_inp) // tr_divisor\n",
    "test_limit = len(test_inp) // te_divisor\n",
    "\n",
    "train_limited_inp = train_inp[:train_limit]\n",
    "train_limited_oup = train_oup[:train_limit]\n",
    "test_limited_inp = test_inp[:test_limit]\n",
    "test_limited_oup = test_oup[:test_limit]\n",
    "\n",
    "c = CNNLSTM()"
   ]
  },
  {
   "cell_type": "code",
   "execution_count": 80,
   "metadata": {},
   "outputs": [],
   "source": [
    "session_num = getSession()\n",
    "def globalTrain(train_inp_, train_oup_, model_, frame_in_, frame_out_, epochs__):\n",
    "    model_.setup(frame_in_, frame_out_)\n",
    "    model_.setData(train_inp_, train_oup_)\n",
    "    model_.train('Global', session_num, epochs_=epochs__, verbose_=2)\n",
    "    #model_.summarize()\n",
    "    return model_"
   ]
  },
  {
   "cell_type": "code",
   "execution_count": 81,
   "metadata": {},
   "outputs": [],
   "source": [
    "#model = globalTrain(train_limited_inp, train_limited_oup, c, frame_in, frame_out, 1)"
   ]
  },
  {
   "cell_type": "code",
   "execution_count": 82,
   "metadata": {},
   "outputs": [],
   "source": [
    "def testCase(test_inp_, test_oup_, model_, frame_in_, frame_out_, epochs__, label_):\n",
    "    p = Prediction(test_inp_, test_oup_, model_, frame_in_, frame_out_, session_num)\n",
    "    p.predict()\n",
    "    p.summary(label=label_, epochs_=epochs__)\n",
    "\n",
    "#testCase(test_limited_inp, test_limited_oup, c, frame_in, frame_out, epochs, 'Global')"
   ]
  },
  {
   "cell_type": "code",
   "execution_count": 83,
   "metadata": {},
   "outputs": [],
   "source": [
    "def truncateSet(sets):\n",
    "    truncated = []\n",
    "    for s in sets:\n",
    "        truncated.append([s[2],s[3]])\n",
    "    return truncated"
   ]
  },
  {
   "cell_type": "code",
   "execution_count": 84,
   "metadata": {},
   "outputs": [],
   "source": [
    "def loadSets(test_ratio_, frame_in_, frame_out_, str_fn_):\n",
    "    try:\n",
    "        sets = pk.load(open(\"temp/truncset\"+str(test_ratio_)+str_fn_, 'rb'))\n",
    "    except:\n",
    "        sets = truncateSet(setup(test_ratio_, frame_in_, frame_out_))\n",
    "        pk.dump(sets, open(\"temp/truncset\"+str(test_ratio_)+str_fn_, 'wb'))\n",
    "    return sets\n",
    "\n",
    "sets = loadSets(test_ratio, frame_in, frame_out, str_fn)"
   ]
  },
  {
   "cell_type": "code",
   "execution_count": 85,
   "metadata": {},
   "outputs": [],
   "source": [
    "def localTest(sets, frame_in_, frame_out_, model_, te_divisor_, epochs__=6):\n",
    "    sindex = 0\n",
    "    for s in sets:\n",
    "        cases = len(s[0]) // te_divisor_\n",
    "        if sindex in [3, 5, 10]:\n",
    "            testCase(s[0][:cases], s[1][:cases], model_, frame_in_, frame_out_, epochs__, str(sindex))\n",
    "        sindex += 1\n",
    "\n",
    "#localTest(sets, frame_in, frame_out, c, te_divisor)"
   ]
  },
  {
   "cell_type": "code",
   "execution_count": 86,
   "metadata": {},
   "outputs": [
    {
     "name": "stdout",
     "output_type": "stream",
     "text": [
      "01 | TR 195694 | DEM 13875.48 | WEI 61381 | POR 0.05886\n",
      "02 | TR 195694 | DEM 19245.53 | WEI 85137 | POR 0.08164\n",
      "03 | TR 48886 | DEM  3285.88 | WEI  7265 | POR 0.00697\n",
      "04 | TR 198664 | DEM 110302.38 | WEI 491637 | POR 0.47145\n",
      "05 | TR 48884 | DEM  1841.67 | WEI  4072 | POR 0.00390\n",
      "06 | TR 48852 | DEM 13908.35 | WEI 30741 | POR 0.02948\n",
      "07 | TR 48820 | DEM 26139.62 | WEI 57756 | POR 0.05539\n",
      "08 | TR 97764 | DEM 34313.54 | WEI 107289 | POR 0.10288\n",
      "09 | TR 97098 | DEM  3098.26 | WEI  9654 | POR 0.00926\n",
      "10 | TR 48886 | DEM 16082.98 | WEI 35560 | POR 0.03410\n",
      "11 | TR 198543 | DEM   918.53 | WEI  4093 | POR 0.00392\n",
      "12 | TR 195694 | DEM 24636.05 | WEI 108983 | POR 0.10451\n",
      "13 | TR 48769 | DEM  7381.96 | WEI 16302 | POR 0.01563\n",
      "14 | TR 48886 | DEM  2769.05 | WEI  6122 | POR 0.00587\n",
      "15 | TR 48837 | DEM  7610.32 | WEI 16818 | POR 0.01613\n"
     ]
    }
   ],
   "source": [
    "def printNoData(stats):\n",
    "    for s in stats:\n",
    "        print(\"{:02d} | TR {:5d} | DEM {:8.2f} | WEI {:5.0f} | POR {:0.5f}\".format(s['id'], s['train'], s['dem'], s['weight'], s['portion']))\n",
    "\n",
    "def makeStats(sets_):\n",
    "    # Make statistics\n",
    "    ss = deepcopy(sets_)\n",
    "    statistics = [{'id': s + 1, 'data' : ss[s], 'train': 0, 'dem': 0, 'weight': 0, 'portion' : 0} for s in range(len(ss))]\n",
    "\n",
    "    for s in range(len(ss)):\n",
    "        statistics[s]['train'] = len(ss[s][1])\n",
    "        s_dem = 0\n",
    "        for i in range(len(ss[s][1])):\n",
    "            s_dem += ss[s][1][i][0]\n",
    "        statistics[s]['dem'] = s_dem\n",
    "        statistics[s]['weight'] = (len(ss[s][1]) ** 0.5) * s_dem / 100\n",
    "\n",
    "    total_train = 0\n",
    "    total_dem = 0\n",
    "    total_weight = 0\n",
    "\n",
    "    for s in range(len(statistics)):\n",
    "        total_train += statistics[s]['train']\n",
    "        total_dem += statistics[s]['train']\n",
    "        total_weight += statistics[s]['weight']\n",
    "        \n",
    "    for s in range(len(statistics)):\n",
    "        statistics[s]['portion'] = statistics[s]['weight']/total_weight\n",
    "\n",
    "    printNoData(statistics)\n",
    "    return statistics, total_weight\n",
    "\n",
    "sets_full = loadSets(1, frame_in, frame_out, str_fn)\n",
    "stats = makeStats(sets_full)\n"
   ]
  },
  {
   "cell_type": "code",
   "execution_count": 87,
   "metadata": {},
   "outputs": [
    {
     "name": "stdout",
     "output_type": "stream",
     "text": [
      "08 | TR 97764 | DEM 34313.54 | WEI 107289 | POR 0.10288\n",
      "04 | TR 198664 | DEM 110302.38 | WEI 491637 | POR 0.47145\n",
      "09 | TR 97098 | DEM  3098.26 | WEI  9654 | POR 0.00926\n",
      "07 | TR 48820 | DEM 26139.62 | WEI 57756 | POR 0.05539\n",
      "15 | TR 48837 | DEM  7610.32 | WEI 16818 | POR 0.01613\n",
      "14 | TR 48886 | DEM  2769.05 | WEI  6122 | POR 0.00587\n",
      "01 | TR 195694 | DEM 13875.48 | WEI 61381 | POR 0.05886\n",
      "11 | TR 198543 | DEM   918.53 | WEI  4093 | POR 0.00392\n",
      "12 | TR 195694 | DEM 24636.05 | WEI 108983 | POR 0.10451\n",
      "13 | TR 48769 | DEM  7381.96 | WEI 16302 | POR 0.01563\n",
      "02 | TR 195694 | DEM 19245.53 | WEI 85137 | POR 0.08164\n",
      "03 | TR 48886 | DEM  3285.88 | WEI  7265 | POR 0.00697\n",
      "06 | TR 48852 | DEM 13908.35 | WEI 30741 | POR 0.02948\n",
      "05 | TR 48884 | DEM  1841.67 | WEI  4072 | POR 0.00390\n",
      "10 | TR 48886 | DEM 16082.98 | WEI 35560 | POR 0.03410\n",
      "Altered: 105324 -6.785084640251388e-08\n"
     ]
    }
   ],
   "source": [
    "# Poisoning factor\n",
    "poisoning_factors = [0.101, 0.255, 0.412, 0.521, 0.635, 0.762]\n",
    "\n",
    "def poison(stats_, defect_ratio):\n",
    "    seth_ = deepcopy(stats_)\n",
    "    seth_, weight = seth_[0], seth_[1]\n",
    "    shuffle(seth_)\n",
    "    printNoData(seth_)\n",
    "    altered = 0\n",
    "    for i in range(len(seth_)):\n",
    "        for l in range(len(seth_[i]['data'])):\n",
    "            for j in range(len(seth_[i]['data'][l])):\n",
    "                for k in range(len(seth_[i]['data'][l][j])):\n",
    "                    if defect_ratio < 0:\n",
    "                        break\n",
    "                    seth_[i]['data'][l][j][k] = seth_[i]['data'][l][j][k] * (random() * 1 - 0.5)\n",
    "                    altered += 1/2\n",
    "                    defect_ratio -= (0.5 / weight)\n",
    "    print(\"Altered: \" + str(int(altered)), defect_ratio)\n",
    "    return seth_\n",
    "\n",
    "set_poisoned = poison(stats, poisoning_factors[0])"
   ]
  },
  {
   "cell_type": "code",
   "execution_count": 88,
   "metadata": {},
   "outputs": [],
   "source": [
    "def uniteStats(stats_):\n",
    "    train_inp_ = []\n",
    "    train_oup_ = []\n",
    "    for s in stats_:\n",
    "        train_inp_.extend(s['data'][0])\n",
    "        train_oup_.extend(s['data'][1])\n",
    "        pass\n",
    "    return arr(train_inp_), arr(train_oup_)\n",
    "\n",
    "modp = CNNLSTM()\n",
    "def trainPoisoned(test_pin, test_pou, model_, frame_in_, frame_out_, epochs__):\n",
    "    model_.setup(frame_in_, frame_out_)\n",
    "    model_.setData(test_pin, test_pou)\n",
    "    model_.train('GloPoi', getSession(), verbose_=2, epochs_=epochs__)\n",
    "    return model_\n",
    "\n",
    "t1, t2 = uniteStats(set_poisoned)"
   ]
  },
  {
   "cell_type": "code",
   "execution_count": 89,
   "metadata": {},
   "outputs": [
    {
     "name": "stdout",
     "output_type": "stream",
     "text": [
      "Epoch 1/6\n",
      "49062/49062 - 91s - loss: 0.0020\n",
      "Epoch 2/6\n",
      "49062/49062 - 100s - loss: 0.0015\n",
      "Epoch 3/6\n",
      "49062/49062 - 106s - loss: 0.0014\n",
      "Epoch 4/6\n",
      "49062/49062 - 102s - loss: 0.0013\n",
      "Epoch 5/6\n",
      "49062/49062 - 98s - loss: 0.0013\n",
      "Epoch 6/6\n",
      "49062/49062 - 114s - loss: 0.0013\n"
     ]
    }
   ],
   "source": [
    "mod_po = trainPoisoned(t1, t2, modp, frame_in, frame_out, epochs)"
   ]
  },
  {
   "cell_type": "code",
   "execution_count": 90,
   "metadata": {},
   "outputs": [
    {
     "name": "stdout",
     "output_type": "stream",
     "text": [
      "12559 | ||||||||||254 | L Global-Poi | TD 890.06377 | TC 12559 | AD 0.07 | [16.]% | Dur 547.6679725646973\n"
     ]
    }
   ],
   "source": [
    "testCase(test_limited_inp, test_limited_oup, mod_po, frame_in, frame_out, epochs, 'Global-Poi')"
   ]
  },
  {
   "cell_type": "code",
   "execution_count": 91,
   "metadata": {},
   "outputs": [
    {
     "name": "stdout",
     "output_type": "stream",
     "text": [
      "1589 | ||||||||||254 | L 3 | TD 878.46152 | TC 1589 | AD 0.55 | [1.39]% | Dur 66.78307032585144\n",
      "390 | ||||||||||254 | L 5 | TD 114.69524 | TC 390 | AD 0.29 | [3.81]% | Dur 15.191904544830322\n",
      "1588 | ||||||||||254 | L 10 | TD 7.59838 | TC 1588 | AD 0.0 | [60.82]% | Dur 71.50827884674072\n"
     ]
    }
   ],
   "source": [
    "localTest(sets, frame_in, frame_out, mod_po, te_divisor)"
   ]
  }
 ],
 "metadata": {
  "interpreter": {
   "hash": "bb9c770599c29accaf2a9240ce1368d4cdf7f8298a578ed060299133d1d1d8bb"
  },
  "kernelspec": {
   "display_name": "Python 3.7.9 64-bit",
   "language": "python",
   "name": "python3"
  },
  "language_info": {
   "codemirror_mode": {
    "name": "ipython",
    "version": 3
   },
   "file_extension": ".py",
   "mimetype": "text/x-python",
   "name": "python",
   "nbconvert_exporter": "python",
   "pygments_lexer": "ipython3",
   "version": "3.7.9"
  },
  "orig_nbformat": 4
 },
 "nbformat": 4,
 "nbformat_minor": 2
}
